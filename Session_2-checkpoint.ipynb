{
 "cells": [
  {
   "cell_type": "code",
   "execution_count": 4,
   "metadata": {},
   "outputs": [
    {
     "name": "stdout",
     "output_type": "stream",
     "text": [
      "Hello World\n"
     ]
    }
   ],
   "source": [
    "print(\"Hello World\")"
   ]
  },
  {
   "cell_type": "code",
   "execution_count": 6,
   "metadata": {},
   "outputs": [],
   "source": [
    "a = 10"
   ]
  },
  {
   "cell_type": "code",
   "execution_count": 7,
   "metadata": {},
   "outputs": [
    {
     "name": "stdout",
     "output_type": "stream",
     "text": [
      "10\n"
     ]
    }
   ],
   "source": [
    "print (a)"
   ]
  },
  {
   "cell_type": "code",
   "execution_count": 8,
   "metadata": {},
   "outputs": [
    {
     "name": "stdout",
     "output_type": "stream",
     "text": [
      "<class 'int'>\n"
     ]
    }
   ],
   "source": [
    "print(type(a))"
   ]
  },
  {
   "cell_type": "code",
   "execution_count": 9,
   "metadata": {},
   "outputs": [],
   "source": [
    "b = 3.5"
   ]
  },
  {
   "cell_type": "code",
   "execution_count": 10,
   "metadata": {},
   "outputs": [
    {
     "name": "stdout",
     "output_type": "stream",
     "text": [
      "3.5\n"
     ]
    }
   ],
   "source": [
    "print(b)"
   ]
  },
  {
   "cell_type": "code",
   "execution_count": 11,
   "metadata": {},
   "outputs": [
    {
     "name": "stdout",
     "output_type": "stream",
     "text": [
      "<class 'float'>\n"
     ]
    }
   ],
   "source": [
    "print(type(b))"
   ]
  },
  {
   "cell_type": "markdown",
   "metadata": {},
   "source": [
    "# Data Type\n",
    "#### int"
   ]
  },
  {
   "cell_type": "code",
   "execution_count": 12,
   "metadata": {},
   "outputs": [],
   "source": [
    "a = 10"
   ]
  },
  {
   "cell_type": "code",
   "execution_count": 19,
   "metadata": {},
   "outputs": [
    {
     "name": "stdout",
     "output_type": "stream",
     "text": [
      "10\n"
     ]
    }
   ],
   "source": [
    "print (a)"
   ]
  },
  {
   "cell_type": "code",
   "execution_count": 20,
   "metadata": {},
   "outputs": [
    {
     "name": "stdout",
     "output_type": "stream",
     "text": [
      "<class 'int'>\n"
     ]
    }
   ],
   "source": [
    "print (type (a))"
   ]
  },
  {
   "cell_type": "markdown",
   "metadata": {},
   "source": [
    "#### float"
   ]
  },
  {
   "cell_type": "code",
   "execution_count": 14,
   "metadata": {},
   "outputs": [],
   "source": [
    "b = 13.5"
   ]
  },
  {
   "cell_type": "code",
   "execution_count": 22,
   "metadata": {},
   "outputs": [
    {
     "name": "stdout",
     "output_type": "stream",
     "text": [
      "13.5\n"
     ]
    }
   ],
   "source": [
    "print(b)"
   ]
  },
  {
   "cell_type": "code",
   "execution_count": 21,
   "metadata": {},
   "outputs": [
    {
     "name": "stdout",
     "output_type": "stream",
     "text": [
      "<class 'float'>\n"
     ]
    }
   ],
   "source": [
    "print(type(b))"
   ]
  },
  {
   "cell_type": "code",
   "execution_count": 23,
   "metadata": {},
   "outputs": [],
   "source": [
    "c = \"Hello World\""
   ]
  },
  {
   "cell_type": "code",
   "execution_count": 24,
   "metadata": {},
   "outputs": [
    {
     "name": "stdout",
     "output_type": "stream",
     "text": [
      "Hello World\n"
     ]
    }
   ],
   "source": [
    "print (c)"
   ]
  },
  {
   "cell_type": "code",
   "execution_count": 25,
   "metadata": {},
   "outputs": [
    {
     "name": "stdout",
     "output_type": "stream",
     "text": [
      "<class 'str'>\n"
     ]
    }
   ],
   "source": [
    "print (type(c))"
   ]
  },
  {
   "cell_type": "markdown",
   "metadata": {},
   "source": [
    "#### list"
   ]
  },
  {
   "cell_type": "code",
   "execution_count": 21,
   "metadata": {},
   "outputs": [],
   "source": [
    "my_list = [1,2,3,4]"
   ]
  },
  {
   "cell_type": "code",
   "execution_count": 22,
   "metadata": {},
   "outputs": [
    {
     "name": "stdout",
     "output_type": "stream",
     "text": [
      "[1, 2, 3, 4]\n"
     ]
    }
   ],
   "source": [
    "print (my_list)"
   ]
  },
  {
   "cell_type": "code",
   "execution_count": 23,
   "metadata": {},
   "outputs": [
    {
     "name": "stdout",
     "output_type": "stream",
     "text": [
      "<class 'list'>\n"
     ]
    }
   ],
   "source": [
    "print (type(my_list))"
   ]
  },
  {
   "cell_type": "code",
   "execution_count": 24,
   "metadata": {},
   "outputs": [
    {
     "data": {
      "text/plain": [
       "1"
      ]
     },
     "execution_count": 24,
     "metadata": {},
     "output_type": "execute_result"
    }
   ],
   "source": [
    "my_list[0] #indexing"
   ]
  },
  {
   "cell_type": "code",
   "execution_count": 25,
   "metadata": {},
   "outputs": [
    {
     "data": {
      "text/plain": [
       "3"
      ]
     },
     "execution_count": 25,
     "metadata": {},
     "output_type": "execute_result"
    }
   ],
   "source": [
    "my_list[2] #indexing"
   ]
  },
  {
   "cell_type": "code",
   "execution_count": 26,
   "metadata": {},
   "outputs": [],
   "source": [
    "my_list_str = [\"Hello\",\"Hi\",\"Welcome\",1,2,3,4.5,True]"
   ]
  },
  {
   "cell_type": "code",
   "execution_count": 27,
   "metadata": {},
   "outputs": [
    {
     "name": "stdout",
     "output_type": "stream",
     "text": [
      "['Hello', 'Hi', 'Welcome', 1, 2, 3, 4.5, True]\n"
     ]
    }
   ],
   "source": [
    "print(my_list_str)"
   ]
  },
  {
   "cell_type": "code",
   "execution_count": 39,
   "metadata": {},
   "outputs": [
    {
     "name": "stdout",
     "output_type": "stream",
     "text": [
      "<class 'list'>\n"
     ]
    }
   ],
   "source": [
    "print (type(my_list_str))"
   ]
  },
  {
   "cell_type": "code",
   "execution_count": 40,
   "metadata": {},
   "outputs": [
    {
     "data": {
      "text/plain": [
       "'e'"
      ]
     },
     "execution_count": 40,
     "metadata": {},
     "output_type": "execute_result"
    }
   ],
   "source": [
    "my_list_str[0][1]"
   ]
  },
  {
   "cell_type": "code",
   "execution_count": 42,
   "metadata": {},
   "outputs": [
    {
     "data": {
      "text/plain": [
       "'Hi'"
      ]
     },
     "execution_count": 42,
     "metadata": {},
     "output_type": "execute_result"
    }
   ],
   "source": [
    "my_list_str[1]"
   ]
  },
  {
   "cell_type": "code",
   "execution_count": 43,
   "metadata": {},
   "outputs": [
    {
     "data": {
      "text/plain": [
       "'H'"
      ]
     },
     "execution_count": 43,
     "metadata": {},
     "output_type": "execute_result"
    }
   ],
   "source": [
    "my_list_str[1][0]"
   ]
  },
  {
   "cell_type": "code",
   "execution_count": 44,
   "metadata": {},
   "outputs": [
    {
     "data": {
      "text/plain": [
       "1"
      ]
     },
     "execution_count": 44,
     "metadata": {},
     "output_type": "execute_result"
    }
   ],
   "source": [
    "my_list_str[3]"
   ]
  },
  {
   "cell_type": "code",
   "execution_count": 45,
   "metadata": {},
   "outputs": [],
   "source": [
    "my_list_str[0] = \"abc\""
   ]
  },
  {
   "cell_type": "code",
   "execution_count": 46,
   "metadata": {},
   "outputs": [
    {
     "name": "stdout",
     "output_type": "stream",
     "text": [
      "['abc', 'Hi', 'Welcome', 1, 2, 3, 4.5, True]\n"
     ]
    }
   ],
   "source": [
    "print (my_list_str)"
   ]
  },
  {
   "cell_type": "code",
   "execution_count": 50,
   "metadata": {},
   "outputs": [
    {
     "data": {
      "text/plain": [
       "['Welcome', 1, 2, 3, 4.5]"
      ]
     },
     "execution_count": 50,
     "metadata": {},
     "output_type": "execute_result"
    }
   ],
   "source": [
    "my_list_str[2:7]"
   ]
  },
  {
   "cell_type": "code",
   "execution_count": 51,
   "metadata": {},
   "outputs": [
    {
     "data": {
      "text/plain": [
       "True"
      ]
     },
     "execution_count": 51,
     "metadata": {},
     "output_type": "execute_result"
    }
   ],
   "source": [
    "my_list_str[-1]"
   ]
  },
  {
   "cell_type": "code",
   "execution_count": 54,
   "metadata": {},
   "outputs": [
    {
     "data": {
      "text/plain": [
       "4.5"
      ]
     },
     "execution_count": 54,
     "metadata": {},
     "output_type": "execute_result"
    }
   ],
   "source": [
    "my_list_str[-2]"
   ]
  },
  {
   "cell_type": "code",
   "execution_count": 140,
   "metadata": {},
   "outputs": [
    {
     "data": {
      "text/plain": [
       "[4.5, 3, 2, 1]"
      ]
     },
     "execution_count": 140,
     "metadata": {},
     "output_type": "execute_result"
    }
   ],
   "source": [
    "#assignment-1:\n",
    "#print output as [4.5,3,2,1].\n",
    "my_list_str = [\"Hello\",\"Hi\",\"Welcome\",1,2,3,4.5,True]\n",
    "my_list_str[-2:-6:-1]"
   ]
  },
  {
   "cell_type": "code",
   "execution_count": 28,
   "metadata": {},
   "outputs": [],
   "source": [
    "my_list_str.append(100)"
   ]
  },
  {
   "cell_type": "code",
   "execution_count": 29,
   "metadata": {},
   "outputs": [
    {
     "data": {
      "text/plain": [
       "['Hello', 'Hi', 'Welcome', 1, 2, 3, 4.5, True, 100]"
      ]
     },
     "execution_count": 29,
     "metadata": {},
     "output_type": "execute_result"
    }
   ],
   "source": [
    "my_list_str"
   ]
  },
  {
   "cell_type": "code",
   "execution_count": 147,
   "metadata": {},
   "outputs": [
    {
     "name": "stdout",
     "output_type": "stream",
     "text": [
      "Updated animal list:  ['cat', 'dog', 'rabbit', 'guinea pig']\n",
      "Updated animal list:  ['cat', 'dog', 'rabbit', ['tiger', 'fox']]\n",
      "Language List:  ['French', 'English', 'German', 'Spanish', 'Portuguese']\n",
      "New Language List:  ['French', 'English', 'German', 'Spanish', 'Portuguese']\n",
      "Newest Language List:  ['French', 'English', 'German', 'Spanish', 'Portuguese', 'Chinese', 'Japanese']\n",
      "a =  [1, 2, 3, 4]\n"
     ]
    }
   ],
   "source": [
    "#assignment-2:\n",
    "#examples for each function of list\n",
    "\n",
    "#Functions of list:\n",
    "#(www.programiz.com)\n",
    "#1. append():\n",
    "#The append() method adds an item to the end of the list.\n",
    "\n",
    "#append() Parameters:\n",
    "#The append() method takes a single item and adds it to the end of the list.\n",
    "#The item can be numbers, strings, another list, dictionary etc.\n",
    "\n",
    "#The syntax of append() method is:\n",
    "#list.append(item)\n",
    "\n",
    "#Examples for append():\n",
    "\n",
    "#Example-1(Adding Element to a List):\n",
    "# animal list\n",
    "animal = ['cat', 'dog', 'rabbit']\n",
    "# an element is added\n",
    "animal.append('guinea pig')\n",
    "#Updated Animal List\n",
    "print('Updated animal list: ', animal)\n",
    "\n",
    "#Example-2(Adding List to a List):\n",
    "# animal list\n",
    "animal = ['cat', 'dog', 'rabbit']\n",
    "# another list of wild animals\n",
    "wild_animal = ['tiger', 'fox']\n",
    "# adding wild_animal list to animal list\n",
    "animal.append(wild_animal)\n",
    "#Updated List\n",
    "print('Updated animal list: ', animal)\n",
    "\n",
    "#It's important to notice that, a single item (wild_animal list) is added to the animal list in the above program.\n",
    "#If you need to add items of a list to the another list (rather than the list itself), extend() method is used.\n",
    "\n",
    "#2. extend():\n",
    "#The extend() extends the list by adding all items of a list (passed as an argument) to the end.\n",
    "\n",
    "#extend() Parameters:\n",
    "#As mentioned, the extend() method takes a single argument (a list) and adds it to the end.\n",
    "#If you need to add elements of other native datatypes (like tuple and set) to the list, you can simply use.\n",
    "# add elements of a tuple to list\n",
    "#list.extend(list(tuple_type)).\n",
    "#or even easier.\n",
    "#list.extend(tuple_type).\n",
    "#Return Value from extend():\n",
    "#The extend() method only modifies the original list. It doesn't return any value.\n",
    "\n",
    "#The syntax of extend() method is:\n",
    "#list1.extend(list2)\n",
    "#Here, the elements of list2 are added to the end of list1.\n",
    "\n",
    "#Examples for extend():\n",
    "\n",
    "#Example-1(Using extend() Method):\n",
    "# language list\n",
    "language = ['French', 'English', 'German']\n",
    "# another list of language\n",
    "language1 = ['Spanish', 'Portuguese']\n",
    "language.extend(language1)\n",
    "# Extended List\n",
    "print('Language List: ', language)\n",
    "\n",
    "#Example-2(Add Elements of Tuple and Set to List):\n",
    "# language list\n",
    "language = ['French', 'English', 'German']\n",
    "# language tuple\n",
    "language_tuple = ('Spanish', 'Portuguese')\n",
    "# language set\n",
    "language_set = {'Chinese', 'Japanese'}\n",
    "# appending element of language tuple\n",
    "language.extend(language_tuple)\n",
    "print('New Language List: ', language)\n",
    "# appending element of language set\n",
    "language.extend(language_set)\n",
    "print('Newest Language List: ', language)\n",
    "\n",
    "#You can also add items of a list to another list using + or += operator. For example,\n",
    "a = [1, 2]\n",
    "b = [3, 4]\n",
    "a += b\n",
    "# Output: a = [1, 2, 3, 4]\n",
    "print('a = ', a)\n",
    "\n",
    "#insert():\n",
    "#The insert() method inserts the element to the list at the given index.\n",
    "\n",
    "#The syntax of insert() method is:\n",
    "#list.insert(index, element)\n",
    "\n",
    "#insert() Parameters:\n",
    "#The insert() function takes two parameters:\n",
    "\n",
    "  #index - position where element needs to be inserted\n",
    "  #element - this is the element to be inserted in the list\n",
    "\n",
    "#Return Value from insert():\n",
    "#The insert() method only inserts the element to the list. It doesn't return any value.\n",
    "\n",
    "#Example-1(inserting Element to List):\n",
    "# vowel list\n",
    "vowel = ['a', 'e', 'i', 'u']\n",
    "\n",
    "# inserting element to list at 4th position\n",
    "vowel.insert(3, 'o')\n",
    "\n",
    "print('Updated List: ', vowel)\n",
    "\n",
    "#Example 2(inserting a Tuple (as an Element) to the List):\n",
    "mixed_list = [{1, 2}, [5, 6, 7]]\n",
    "\n",
    "# number tuple\n",
    "number_tuple = (3, 4)\n",
    "\n",
    "# inserting tuple to the list\n",
    "mixed_list.insert(1, number_tuple)\n",
    "\n",
    "print('Updated List: ', mixed_list)\n",
    "\n",
    "#It is important to note that the index in Python starts from 0 not 1.\n",
    "\n",
    "#If you have to insert element in 4th place, you have to pass 3 as an index.\n",
    "#Similarly,if you have to insert element in 2nd place, you have to use 1 as an index."
   ]
  },
  {
   "cell_type": "code",
   "execution_count": null,
   "metadata": {},
   "outputs": [],
   "source": []
  }
 ],
 "metadata": {
  "kernelspec": {
   "display_name": "Python 3",
   "language": "python",
   "name": "python3"
  },
  "language_info": {
   "codemirror_mode": {
    "name": "ipython",
    "version": 3
   },
   "file_extension": ".py",
   "mimetype": "text/x-python",
   "name": "python",
   "nbconvert_exporter": "python",
   "pygments_lexer": "ipython3",
   "version": "3.6.5"
  }
 },
 "nbformat": 4,
 "nbformat_minor": 2
}
